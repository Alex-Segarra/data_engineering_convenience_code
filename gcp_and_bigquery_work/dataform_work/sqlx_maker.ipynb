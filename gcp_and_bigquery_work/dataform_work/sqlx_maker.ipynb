{
 "cells": [
  {
   "cell_type": "code",
   "execution_count": 1,
   "metadata": {},
   "outputs": [],
   "source": [
    "import os\n",
    "import subprocess\n",
    "import io\n",
    "import re"
   ]
  },
  {
   "cell_type": "code",
   "execution_count": null,
   "metadata": {},
   "outputs": [],
   "source": [
    "with open('/includes/test.txt','w') as file:\n",
    "    file.write('test')\n",
    "    "
   ]
  },
  {
   "cell_type": "code",
   "execution_count": 7,
   "metadata": {},
   "outputs": [],
   "source": [
    "#path='/home/jupyter/pols_analytics_general/pols_code/production_tables/polsbigquery/stage_actual_budget_expected/sql/stage_actual_budget_expected.sql'\n",
    "\n",
    "#path='/home/jupyter/sqlx_maker/angelo_madness.sql'\n",
    "\n",
    "#path='/home/jupyter/pols_analytics_general/pols_code/production_tables/edwa-global/pols_analytics/marketing_metrics_v2/sql/marketing_metrics_v2_parseable.sql'\n",
    "\n",
    "path='path/query.sql'\n",
    "\n",
    "file_path = re.search('(.*)/(.*)(.sql)',path).group(2)\n",
    "\n",
    "new_path = os.path.join('../local_repo/',file_path)"
   ]
  },
  {
   "cell_type": "code",
   "execution_count": 8,
   "metadata": {},
   "outputs": [],
   "source": [
    "os.chdir('current_directory')\n",
    "if not os.path.exists(new_path):\n",
    "    os.mkdir(new_path)\n",
    "os.chdir(new_path)"
   ]
  },
  {
   "cell_type": "code",
   "execution_count": 9,
   "metadata": {},
   "outputs": [],
   "source": [
    "def read_and_clean_file(path):\n",
    "    f = open(path,'r').read()\n",
    "    f = re.sub('(CREATE OR REPLACE)','$$$$$$\\\\1',f)\n",
    "    f = re.sub('`','',f)\n",
    "    \n",
    "    return(f)\n",
    "\n",
    "def create_constants_file(txt):\n",
    "    \n",
    "    #trim white spaces\n",
    "    txt = re.sub('\\s{2,}',' ',txt.replace('\\n',''))\n",
    "    #Remove SET DDL word\n",
    "    txt = re.sub('SET ', '', re.search('SET.*',txt).group())\n",
    "    \n",
    "    #List Logic\n",
    "    ## Combines list comprehensions to create js script\n",
    "    if len(re.findall('=',txt))>1:\n",
    "        txt_lst = [f\"\"\"const {re.search('(.*)(=)(.*).',x).group(1)} = \"{re.search('(.*)(=)(.*).',x).group(3)}\";\\nmodule.exports = {{{re.search('(.*)(=)(.*).',x).group(1)}}};\"\"\" for x in txt.split(',')]\n",
    "    else:\n",
    "        txt_lst = [f\"\"\"const {re.search('(.*)(=)(.*).',txt).group(1)} = \"{re.search('(.*)(=)(.*).',txt).group(3)}\";\\nmodule.exports = {{{re.search('(.*)(=)(.*).',txt).group(1)}}};\"\"\"]\n",
    "        \n",
    "    \n",
    "        \n",
    "    #returns list of constants\n",
    "    if len(re.findall('=',txt))>1:\n",
    "        const = [re.search('(.*)(=)(.*).',x).group(1).replace(' ','') for x in txt.split(',')]\n",
    "    else:\n",
    "        const = [re.search('(.*)(=)(.*).',txt).group(1).replace(' ','')]\n",
    "        \n",
    "    #writes file\n",
    "    \n",
    "    folder = 'includes'\n",
    "    \n",
    "    os.mkdir(folder)\n",
    "    \n",
    "    for i in range(0,len(const)):\n",
    "        \n",
    "        fpath = os.path.join(folder,f'{const[i]}.js')\n",
    "        \n",
    "        with open(fpath,'w') as file:\n",
    "            file.write(txt_lst[i])\n",
    "            \n",
    "    return(const)\n",
    "\n",
    "def fix_query_references(tables,queries):\n",
    "    fixed_queries=[]\n",
    "    for q in queries:\n",
    "        for t in tables:\n",
    "            if t in q:\n",
    "                ref_name = '''${ref(\"'''  +   str(re.search(r'(.*)\\.(.*)\\.(.*)' , t).group(3))  +   '''\")}'''              \n",
    "                #print(ref_name)\n",
    "                q = re.sub(t,ref_name,q,flags=re.MULTILINE)\n",
    "        fixed_queries.append(q)\n",
    "        \n",
    "    return(fixed_queries)\n",
    "\n",
    "def fix_query_constants(const,queries):\n",
    "    fixed_queries=[]\n",
    "    for q in queries:\n",
    "        for c in const:\n",
    "            if c in q:\n",
    "                q = re.sub(c,\"constants.\"+c,q,flags=re.MULTILINE)\n",
    "        fixed_queries.append(q)\n",
    "        \n",
    "    return(fixed_queries)\n",
    "\n",
    "def run_full_sqlx_parser(path):\n",
    "    \n",
    "    f = read_and_clean_file(path)\n",
    "    \n",
    "    try:\n",
    "        txt = re.search('(SET)(.*);', f , re.IGNORECASE).group()\n",
    "    \n",
    "        const_list = create_constants_file(txt)\n",
    "        \n",
    "    except:\n",
    "        \n",
    "        print('No SET Statements')\n",
    "        const_list=[]\n",
    "    \n",
    "    #clean_f = [x for x in f.split('$$$$$$') if not re.match('DECLARE',x)]\n",
    "    clean_f = [x for x in [x for x in f.split('$$$$$$') if not re.match('DECLARE',x)] if x]\n",
    "    \n",
    "    tables = [re.search(r'(CREATE OR REPLACE TABLE)(.*)(AS)(.*)', x, flags=re.IGNORECASE).group(2).strip() for x in clean_f]\n",
    "    \n",
    "    print(tables)\n",
    "    \n",
    "    queries = [re.sub(r'CREATE OR REPLACE TABLE .* AS(.*)','\\\\1', x, flags=re.IGNORECASE) for x in clean_f]\n",
    "    \n",
    "    queries = fix_query_references(tables=tables,queries=queries)\n",
    "    \n",
    "    if const_list:\n",
    "        queries = fix_query_constants(const=const_list,queries=queries)\n",
    "        \n",
    "    schemas = [re.search(r'(.*)\\.(.*)\\.(.*)' , x).group(2) for x in tables]\n",
    "    table_names = [re.search(r'(.*)\\.(.*)\\.(.*)' , x).group(3) for x in tables]\n",
    "    configs = [f\"config {{type: 'table', schema: '{x}' }}\" for x in schemas]\n",
    "    \n",
    "    file_text = []\n",
    "    for i in range(0,len(tables)):\n",
    "        file_text.append(configs[i]+'\\n'+queries[i])\n",
    "        \n",
    "    folder = 'definitions'\n",
    "    \n",
    "    os.mkdir(folder)\n",
    "        \n",
    "    for i in range(0,len(tables)):\n",
    "        \n",
    "        fpath = os.path.join(folder,f'{table_names[i]}.sqlx')\n",
    "        \n",
    "        with open(fpath, 'w') as file:\n",
    "            file.write(file_text[i])\n",
    "            \n",
    "    return(file_text)\n",
    "    "
   ]
  },
  {
   "cell_type": "code",
   "execution_count": null,
   "metadata": {},
   "outputs": [],
   "source": [
    "file_text = run_full_sqlx_parser(path)"
   ]
  },
  {
   "cell_type": "code",
   "execution_count": 435,
   "metadata": {},
   "outputs": [],
   "source": [
    "f = read_and_clean_file(path)"
   ]
  },
  {
   "cell_type": "code",
   "execution_count": 436,
   "metadata": {},
   "outputs": [],
   "source": [
    "txt = re.search('(SET)(.*);', f , re.IGNORECASE).group()\n",
    "const_list = create_constants_file(txt)"
   ]
  },
  {
   "cell_type": "code",
   "execution_count": 437,
   "metadata": {},
   "outputs": [],
   "source": [
    "tables = [re.search(r'^(CREATE OR REPLACE TABLE) (.*) (AS)(.*)', x).group(2) for x in clean_f]\n",
    "clean_f = [x for x in f.split('$$$$$$') if not re.match('DECLARE',x)]\n",
    "queries = [re.sub(r'^CREATE OR REPLACE TABLE .* AS(.*)','\\\\1', x) for x in clean_f]"
   ]
  },
  {
   "cell_type": "code",
   "execution_count": 438,
   "metadata": {},
   "outputs": [],
   "source": [
    "queries = fix_query_references(tables,queries )"
   ]
  },
  {
   "cell_type": "code",
   "execution_count": 439,
   "metadata": {},
   "outputs": [],
   "source": [
    "if const_list:\n",
    "    queries = fix_query_constants(const=const_list,queries=queries)"
   ]
  },
  {
   "cell_type": "code",
   "execution_count": 440,
   "metadata": {},
   "outputs": [],
   "source": [
    "schemas = [re.search(r'(.*)\\.(.*)\\.(.*)' , x).group(2) for x in tables]\n",
    "table_names = [re.search(r'(.*)\\.(.*)\\.(.*)' , x).group(3) for x in tables]\n",
    "configs = [f\"config {{type: 'table', schema: '{x}' }}\" for x in schemas]"
   ]
  },
  {
   "cell_type": "code",
   "execution_count": 441,
   "metadata": {},
   "outputs": [],
   "source": [
    "file_text = []\n",
    "for i in range(0,len(tables)):\n",
    "    file_text.append(configs[i]+'\\n'+fixed_queries[i])"
   ]
  },
  {
   "cell_type": "code",
   "execution_count": 447,
   "metadata": {},
   "outputs": [],
   "source": [
    "for i in range(0,len(tables)):\n",
    "    with open(f'{table_names[i]}.sqlx', 'w') as file:\n",
    "        file.write(file_text[i])"
   ]
  },
  {
   "cell_type": "code",
   "execution_count": null,
   "metadata": {},
   "outputs": [],
   "source": [
    "#Check test\n",
    "re.findall('polsbigquery\\.budget_exercise\\.[A-Za-z0-9_]+',','.join(file_text))"
   ]
  },
  {
   "cell_type": "code",
   "execution_count": null,
   "metadata": {},
   "outputs": [],
   "source": [
    "re.findall('\\$\\{.*\\}',','.join(file_text))"
   ]
  },
  {
   "cell_type": "code",
   "execution_count": 571,
   "metadata": {},
   "outputs": [
    {
     "data": {
      "text/plain": [
       "[]"
      ]
     },
     "execution_count": 571,
     "metadata": {},
     "output_type": "execute_result"
    }
   ],
   "source": [
    "#Check test\n",
    "re.findall('constants.[A-Za-z_]+',','.join(file_text))"
   ]
  },
  {
   "cell_type": "code",
   "execution_count": 400,
   "metadata": {},
   "outputs": [
    {
     "data": {
      "text/plain": [
       "''"
      ]
     },
     "execution_count": 400,
     "metadata": {},
     "output_type": "execute_result"
    }
   ],
   "source": [
    "#subprocess.getoutput('rm *.sqlx')\n",
    "#subprocess.getoutput('rm *.js')"
   ]
  }
 ],
 "metadata": {
  "environment": {
   "name": "common-cpu.m58",
   "type": "gcloud",
   "uri": "gcr.io/deeplearning-platform-release/base-cpu:m58"
  },
  "kernelspec": {
   "display_name": "Python [conda env:gcp-py38]",
   "language": "python",
   "name": "conda-env-gcp-py38-py"
  },
  "language_info": {
   "codemirror_mode": {
    "name": "ipython",
    "version": 3
   },
   "file_extension": ".py",
   "mimetype": "text/x-python",
   "name": "python",
   "nbconvert_exporter": "python",
   "pygments_lexer": "ipython3",
   "version": "3.8.13"
  }
 },
 "nbformat": 4,
 "nbformat_minor": 4
}
