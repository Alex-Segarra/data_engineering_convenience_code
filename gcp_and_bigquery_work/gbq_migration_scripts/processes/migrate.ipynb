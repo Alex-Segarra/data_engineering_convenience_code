{
 "cells": [
  {
   "cell_type": "code",
   "execution_count": 2,
   "id": "abab6919-aca0-41e9-abc1-881651578e22",
   "metadata": {},
   "outputs": [],
   "source": [
    "import subprocess\n",
    "import os\n",
    "from google.cloud import storage\n",
    "from google.cloud import bigquery\n",
    "import pandas as pd\n",
    "import re\n",
    "import datetime"
   ]
  },
  {
   "cell_type": "code",
   "execution_count": 3,
   "id": "f7cc3cfd-d15c-4647-9650-be4d4ba61af2",
   "metadata": {},
   "outputs": [],
   "source": [
    "file = \"/home/jupyter/gitlab/2023-pols-na-dna-spring-cleaning/files/delete.csv\"\n",
    "logfile = \"/home/jupyter/gitlab/2023-pols-na-dna-spring-cleaning/logs/delete.log\""
   ]
  },
  {
   "cell_type": "code",
   "execution_count": 4,
   "id": "f12beb29-031d-494c-bd9e-8feea12042b5",
   "metadata": {},
   "outputs": [],
   "source": [
    "df = pd.read_csv(file)\n",
    "#df"
   ]
  },
  {
   "cell_type": "code",
   "execution_count": null,
   "id": "5d388f5c-b7c7-46ba-9b31-3cc4f6fd7902",
   "metadata": {},
   "outputs": [],
   "source": [
    "client = bigquery.Client()"
   ]
  },
  {
   "cell_type": "code",
   "execution_count": 36,
   "id": "7f15cee5-c568-4d62-bede-eb9442f7dd27",
   "metadata": {},
   "outputs": [],
   "source": [
    "def check_or_create_dataset(client, dataset_id):\n",
    "    try:\n",
    "        client.get_dataset(dataset_id)\n",
    "        print(f\"{dataset_id} already exists.\")\n",
    "    except:\n",
    "        print(f\"Creating dataset: {dataset_id}\")\n",
    "        dataset = bigquery.Dataset(f'polsbigquery.{dataset_id}')\n",
    "        job = client.create_dataset(dataset_id)\n",
    "    \n",
    "def copy_table(dataset_id, table_id):\n",
    "    \n",
    "    try:\n",
    "        client.get_table(table_id)\n",
    "        print(f\"Copying: {table_id}.\")\n",
    "        job = client.copy_table(f'edwa-global.{dataset_id}.{table_id}', f'polsbigquery.{dataset_id}.{table_id}')\n",
    "        job.result()\n",
    "    except:\n",
    "        print(f\"Table {table_id} does not exists.\")\n",
    "\n",
    "def delete_table(client, dataset_id, table_id):\n",
    "    try:\n",
    "        client.get_table(table_id)\n",
    "        print(f\"Deleting: {table_id}\")\n",
    "        job = client.delete_table(f'edwa-global.{dataset_id}.{table_id}')\n",
    "        job.result()\n",
    "    except:\n",
    "        print(f\"Table {table_id} does not exists.\")\n"
   ]
  },
  {
   "cell_type": "code",
   "execution_count": 32,
   "id": "2ca14895-cbfc-49ad-b639-fef9c578d4eb",
   "metadata": {},
   "outputs": [],
   "source": [
    "# Hard code the schema column name later.\n",
    "c = 'schema'\n",
    "l = list(df[c].unique())\n",
    "dataset_id = 'skunkworks'"
   ]
  },
  {
   "cell_type": "code",
   "execution_count": 35,
   "id": "bdebac1f-71bf-42f4-b80b-ff1d5439758d",
   "metadata": {},
   "outputs": [
    {
     "name": "stdout",
     "output_type": "stream",
     "text": [
      "skunkworks already exists.\n",
      "Table test_table_1 does not exists.\n",
      "Table test_table_2 does not exists.\n",
      "Table test_table_3 does not exists.\n"
     ]
    }
   ],
   "source": [
    "for dataset_id in l:\n",
    "    check_or_create_dataset(client, dataset_id)\n",
    "    \n",
    "    tables = df.loc[df[c] == dataset_id,'table'].to_list()\n",
    "    for table_id in tables:\n",
    "        copy_table(dataset_id, table_id)\n",
    "        delete_table(dataset_id, table_id)\n",
    "        "
   ]
  }
 ],
 "metadata": {
  "environment": {
   "kernel": "python3",
   "name": "r-cpu.4-2.m104",
   "type": "gcloud",
   "uri": "gcr.io/deeplearning-platform-release/r-cpu.4-2:m104"
  },
  "kernelspec": {
   "display_name": "Python 3",
   "language": "python",
   "name": "python3"
  },
  "language_info": {
   "codemirror_mode": {
    "name": "ipython",
    "version": 3
   },
   "file_extension": ".py",
   "mimetype": "text/x-python",
   "name": "python",
   "nbconvert_exporter": "python",
   "pygments_lexer": "ipython3",
   "version": "3.7.12"
  }
 },
 "nbformat": 4,
 "nbformat_minor": 5
}
