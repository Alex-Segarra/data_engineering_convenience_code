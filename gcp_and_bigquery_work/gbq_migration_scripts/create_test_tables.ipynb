{
 "cells": [
  {
   "cell_type": "code",
   "execution_count": 2,
   "id": "931360cf-595d-4ece-8405-ff4899cdd54d",
   "metadata": {},
   "outputs": [
    {
     "name": "stdout",
     "output_type": "stream",
     "text": [
      "Making test_table_1\n",
      "Making test_table_2\n",
      "Making test_table_3\n"
     ]
    }
   ],
   "source": [
    "#Create test tables\n",
    "\n",
    "from google.cloud import bigquery\n",
    "\n",
    "project='project_name'\n",
    "dataset='skunkworks'\n",
    "table_id='test_table_'\n",
    "\n",
    "client = bigquery.Client(project=project)\n",
    "\n",
    "for i in range(0,3):\n",
    "    t = f\"{table_id}{str(i+1)}\"\n",
    "    print(f\"Making {table_id}{str(i+1)}\")\n",
    "    client.query(\n",
    "        f\"\"\" CREATE OR REPLACE TABLE {project}.{dataset}.{t} AS\n",
    "        SELECT CURRENT_DATE() as date\"\"\")"
   ]
  }
 ],
 "metadata": {
  "environment": {
   "kernel": "python3",
   "name": "r-cpu.4-2.m104",
   "type": "gcloud",
   "uri": "gcr.io/deeplearning-platform-release/r-cpu.4-2:m104"
  },
  "kernelspec": {
   "display_name": "Python 3",
   "language": "python",
   "name": "python3"
  },
  "language_info": {
   "codemirror_mode": {
    "name": "ipython",
    "version": 3
   },
   "file_extension": ".py",
   "mimetype": "text/x-python",
   "name": "python",
   "nbconvert_exporter": "python",
   "pygments_lexer": "ipython3",
   "version": "3.7.12"
  }
 },
 "nbformat": 4,
 "nbformat_minor": 5
}
