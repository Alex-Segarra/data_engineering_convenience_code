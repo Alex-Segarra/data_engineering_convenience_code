{
 "cells": [
  {
   "cell_type": "code",
   "execution_count": 117,
   "id": "9ee443f7-c2d5-4d6c-be4c-d7b544375445",
   "metadata": {},
   "outputs": [],
   "source": [
    "# Import the google cloud library\n",
    "from google.cloud import bigquery\n",
    "import os\n",
    "\n",
    "# Create a client object\n",
    "client = bigquery.Client('edw')\n",
    "\n",
    "# Get the project ID\n",
    "project_id = client.project\n",
    "\n",
    "# List all the views in the project\n",
    "\n",
    "os.chdir('/home/jupyter/gitlab')\n",
    "\n",
    "folder = 'legacy-views'\n",
    "\n",
    "#if not  os.path.isdir(folder):\n",
    "#    os.mkdir(folder)\n",
    "#else:\n",
    "#    print('Folder already exists')\n",
    "    \n",
    "datasets = ['dataset_1', 'dataset_2', 'dataset_3']\n",
    "\n",
    "os.chdir(folder)\n",
    "\n",
    "for d in datasets:\n",
    "    if not os.path.isdir(d):\n",
    "        os.mkdir(d)\n"
   ]
  },
  {
   "cell_type": "code",
   "execution_count": 118,
   "id": "0915c04d-d08d-4793-b44c-8282db5ecc9f",
   "metadata": {},
   "outputs": [],
   "source": [
    "def scrape_view_sql_code(dataset):\n",
    "\n",
    "    tables = client.list_tables(dataset)\n",
    "\n",
    "    for t in tables:\n",
    "\n",
    "        t = client.get_table(t)\n",
    "        \n",
    "        # Filtering for views\n",
    "        if t.table_type == 'VIEW':\n",
    "\n",
    "            print(f'Doing... {t.table_id}')\n",
    "\n",
    "            comment=f\"\"\"\n",
    "/*\n",
    "------------------------------------------------------------------\n",
    "FULL TABLE ID: {t.full_table_id}\n",
    "CREATED: {t.created}\n",
    "MODIFIED: {t.modified}\n",
    "LOCATION: {t.location}\n",
    "PATH: {t.path}\n",
    "NUM BYTES: {t.num_bytes}\n",
    "NUM ROWS: {t.num_rows}\n",
    "SCHEMA: \n",
    "\n",
    "{t.schema}\n",
    "\n",
    "------------------------------------------------------------------\n",
    "VIEW QUERY: \n",
    "*/\n",
    "\n",
    "{t.view_query}\n",
    "            \"\"\"\n",
    "\n",
    "            # Writing to file\n",
    "            \n",
    "            with open(f\"./{t.dataset_id}/{t.table_id}.sql\", 'w') as f:\n",
    "                f.write(comment)\n",
    "\n",
    "        else:\n",
    "            continue\n",
    "    "
   ]
  },
  {
   "cell_type": "code",
   "execution_count": null,
   "id": "8971a9ab-ef3d-475d-843d-008065b34073",
   "metadata": {},
   "outputs": [],
   "source": [
    "for d in datasets:\n",
    "    scrape_view_sql_code(d)"
   ]
  }
 ],
 "metadata": {
  "environment": {
   "kernel": "python3",
   "name": "r-cpu.4-2.m104",
   "type": "gcloud",
   "uri": "gcr.io/deeplearning-platform-release/r-cpu.4-2:m104"
  },
  "kernelspec": {
   "display_name": "Python 3",
   "language": "python",
   "name": "python3"
  },
  "language_info": {
   "codemirror_mode": {
    "name": "ipython",
    "version": 3
   },
   "file_extension": ".py",
   "mimetype": "text/x-python",
   "name": "python",
   "nbconvert_exporter": "python",
   "pygments_lexer": "ipython3",
   "version": "3.7.12"
  }
 },
 "nbformat": 4,
 "nbformat_minor": 5
}
