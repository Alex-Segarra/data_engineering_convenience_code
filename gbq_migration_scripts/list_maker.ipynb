{
 "cells": [
  {
   "cell_type": "code",
   "execution_count": 6,
   "id": "54c65dad-9875-4f24-923e-3159f63ff43a",
   "metadata": {},
   "outputs": [],
   "source": [
    "#Creates a CSV file with a list of all tables in a dataset and important metadata\n",
    "from google.cloud import bigquery\n",
    "import re"
   ]
  },
  {
   "cell_type": "code",
   "execution_count": 7,
   "id": "e3600324-00a1-4ed5-b2dc-201f4bad96e7",
   "metadata": {},
   "outputs": [],
   "source": [
    "project = 'project_name'\n",
    "datasets = ['dataset1', 'dataset2']\n",
    "\n",
    "\n",
    "client = bigquery.Client(project=project)"
   ]
  },
  {
   "cell_type": "code",
   "execution_count": null,
   "id": "d5a6dc49-d7b8-41ac-add0-2c6672d8e9bd",
   "metadata": {},
   "outputs": [],
   "source": [
    "for dataset_id in datasets:\n",
    "    \n",
    "    print(f\"Doing {dataset_id}\")\n",
    "\n",
    "    dataset_ref = client.get_dataset(dataset_id)\n",
    "\n",
    "    with open(f'{dataset_id.lower()}_list.csv', 'w') as f:\n",
    "        f.write('project,dataset,table,table_type,date_created,date_updated,action')\n",
    "\n",
    "    for table in client.list_tables(dataset_ref):\n",
    "        name = re.sub('[:]','.',table.full_table_id)\n",
    "\n",
    "        table_ref = client.get_table(name)\n",
    "\n",
    "        line = f\"\"\"\\n{project},{dataset_id},{table_ref.table_id},{table_ref.table_type},{table_ref.created},{table_ref.modified},\"\"\"\n",
    "\n",
    "        with open(f'{dataset_id.lower()}_list.csv', 'a') as f:\n",
    "            f.write(line)   "
   ]
  }
 ],
 "metadata": {
  "environment": {
   "kernel": "python3",
   "name": "r-cpu.4-2.m104",
   "type": "gcloud",
   "uri": "gcr.io/deeplearning-platform-release/r-cpu.4-2:m104"
  },
  "kernelspec": {
   "display_name": "Python 3",
   "language": "python",
   "name": "python3"
  },
  "language_info": {
   "codemirror_mode": {
    "name": "ipython",
    "version": 3
   },
   "file_extension": ".py",
   "mimetype": "text/x-python",
   "name": "python",
   "nbconvert_exporter": "python",
   "pygments_lexer": "ipython3",
   "version": "3.7.12"
  }
 },
 "nbformat": 4,
 "nbformat_minor": 5
}
